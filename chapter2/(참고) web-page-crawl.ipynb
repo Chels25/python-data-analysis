{
 "cells": [
  {
   "cell_type": "markdown",
   "metadata": {},
   "source": [
    "Copyright (c) 2019 [윤기태]\n",
    "\n",
    "https://github.com/yoonkt200/python-data-analysis\n",
    "\n",
    "[MIT License](https://github.com/yoonkt200/python-data-analysis/blob/master/LICENSE.txt)"
   ]
  },
  {
   "cell_type": "markdown",
   "metadata": {},
   "source": [
    "# (가제) 파이썬 데이터 분석"
   ]
  },
  {
   "cell_type": "markdown",
   "metadata": {},
   "source": [
    "-----"
   ]
  },
  {
   "cell_type": "markdown",
   "metadata": {},
   "source": [
    "# 웹 페이지 크롤링"
   ]
  },
  {
   "cell_type": "markdown",
   "metadata": {},
   "source": [
    "### 1. 대상 페이지의 구조 살펴보기"
   ]
  },
  {
   "cell_type": "markdown",
   "metadata": {},
   "source": [
    "- Internet Explorer, Chrome 등의 웹 브라우저로 크롤링의 대상이 될 페이지 구조 살펴보기\n",
    "    - 웹 브라우저의 개발자 도구 실행 (Chrome 기준 설명)\n",
    "        - `Chrome 맞춤설정 및 제어 탭 - 도구 더보기 - 개발자 도구` 클릭\n",
    "        - 혹은 `Command + Alt + I (Mac), Ctrl + Shift + I (윈도우)`"
   ]
  },
  {
   "cell_type": "markdown",
   "metadata": {},
   "source": [
    "![앱 생성 페이지](img/crawl_1.png)"
   ]
  },
  {
   "cell_type": "markdown",
   "metadata": {},
   "source": [
    "-----"
   ]
  },
  {
   "cell_type": "markdown",
   "metadata": {},
   "source": [
    "### 2. 페이지들의 URL 정보 추출"
   ]
  },
  {
   "cell_type": "markdown",
   "metadata": {},
   "source": [
    "- 개발자 도구를 통해, 텍스트 데이터를 가져올 페이지들의 URL 리스트 추출\n",
    "    - HTML 구조에서 링크 정보 (**a 태그**) 추출\n",
    "        - 개발자도구 좌측 상단의 `마우스 모양` 버튼 클릭\n",
    "        - HTML 구조를 보고싶은 영역으로 마우스 커서 이동"
   ]
  },
  {
   "cell_type": "markdown",
   "metadata": {},
   "source": [
    "![앱 생성 페이지](img/crawl_2.png)"
   ]
  },
  {
   "cell_type": "markdown",
   "metadata": {},
   "source": [
    "-----"
   ]
  },
  {
   "cell_type": "markdown",
   "metadata": {},
   "source": [
    "- 아래 코드 실행을 위해, anaconda prompt 혹은 Terminal에서 아래와 같은 패키지들을 설치해 줍니다.\n",
    "    - (env_name) `pip install selenium beautifulsoup4`\n",
    "- 혹은 아래의 코드로 라이브러리를 설치합니다."
   ]
  },
  {
   "cell_type": "code",
   "execution_count": 1,
   "metadata": {},
   "outputs": [
    {
     "name": "stdout",
     "output_type": "stream",
     "text": [
      "Requirement already satisfied: selenium in /Users/A202009066/anaconda3/envs/pda/lib/python3.8/site-packages (3.141.0)\n",
      "Requirement already satisfied: beautifulsoup4 in /Users/A202009066/anaconda3/envs/pda/lib/python3.8/site-packages (4.6.0)\n",
      "Requirement already satisfied: urllib3 in /Users/A202009066/anaconda3/envs/pda/lib/python3.8/site-packages (from selenium) (1.26.5)\n"
     ]
    }
   ],
   "source": [
    "!pip install selenium beautifulsoup4"
   ]
  },
  {
   "cell_type": "markdown",
   "metadata": {},
   "source": [
    "-----"
   ]
  },
  {
   "cell_type": "code",
   "execution_count": 1,
   "metadata": {},
   "outputs": [
    {
     "name": "stdout",
     "output_type": "stream",
     "text": [
      "https://namu.wiki/w/Legacy(%EC%95%A8%EB%B2%94)\n",
      "https://namu.wiki/w/%EA%B9%80%EC%9B%85%EB%B9%88\n",
      "https://namu.wiki/w/%EC%98%AC%EB%9E%AD%ED%94%BC%ED%81%AC%20%EB%93%9C%20%EB%A7%88%EB%A5%B4%EC%84%B8%EC%9C%A0\n",
      "https://namu.wiki/w/%EB%AF%B8%EC%95%BC%EC%9E%90%ED%82%A4%20%ED%95%98%EC%95%BC%EC%98%A4\n",
      "https://namu.wiki/w/%EC%95%BC%EC%83%9D%EB%A7%88(%EB%85%B8%EB%9E%98)\n"
     ]
    }
   ],
   "source": [
    "from selenium import webdriver\n",
    "from bs4 import BeautifulSoup\n",
    "import re\n",
    "\n",
    "# brew 로 설치된 chromedriver의 path (Mac)\n",
    "path = '/usr/local/bin/chromedriver'\n",
    "\n",
    "# 크롤링할 사이트 주소를 정의합니다.\n",
    "source_url = \"https://namu.wiki/RecentChanges\"\n",
    "\n",
    "# 크롬 드라이버를 사용합니다\n",
    "driver = webdriver.Chrome(path)\n",
    "\n",
    "# 드라이버가 브라우징 할 페이지 소스를 입력합니다\n",
    "driver.get('https://namu.wiki/RecentChanges')\n",
    "req = driver.page_source\n",
    "\n",
    "# 사이트의 html 구조에 기반하여 데이터를 파싱합니다.\n",
    "soup=BeautifulSoup(req, 'html.parser')\n",
    "contents_table = soup.find(name=\"table\")\n",
    "table_body = contents_table.find(name=\"tbody\")\n",
    "table_rows = table_body.find_all(name=\"tr\")\n",
    "\n",
    "# a태그의 href 속성을 리스트로 추출하여, 크롤링 할 페이지 리스트를 생성합니다.\n",
    "page_url_base = \"https://namu.wiki\"\n",
    "page_urls = []\n",
    "for index in range(0, len(table_rows)):\n",
    "    first_td = table_rows[index].find_all('td')[0]\n",
    "    td_url = first_td.find_all('a')\n",
    "    if len(td_url) > 0:\n",
    "        page_url = page_url_base + td_url[0].get('href')\n",
    "        if 'png' not in page_url:\n",
    "            page_urls.append(page_url)\n",
    "\n",
    "# 중복 url을 제거합니다.\n",
    "page_urls = list(set(page_urls))\n",
    "for page in page_urls[:5]:\n",
    "    print(page)\n",
    "    \n",
    "# 크롤링에 사용한 브라우저를 종료합니다.\n",
    "driver.close()"
   ]
  },
  {
   "cell_type": "markdown",
   "metadata": {},
   "source": [
    "- 위의 코드를 통해 https://namu.wiki/RecentChanges 페이지의 최근 변경 문서 링크들을 추출."
   ]
  },
  {
   "cell_type": "markdown",
   "metadata": {},
   "source": [
    "-----"
   ]
  },
  {
   "cell_type": "markdown",
   "metadata": {},
   "source": [
    "### 3. 각종 텍스트 정보 추출"
   ]
  },
  {
   "cell_type": "markdown",
   "metadata": {},
   "source": [
    "- 동일한 방법으로, 개발자 도구를 이용하여 최근 변경된 나무위키 페이지의 텍스트 정보 추출\n",
    "    - `문서 제목`\n",
    "    - `문서 카테고리`\n",
    "    - `문서 내용`"
   ]
  },
  {
   "cell_type": "markdown",
   "metadata": {},
   "source": [
    "![앱 생성 페이지](img/crawl_3.png)"
   ]
  },
  {
   "cell_type": "markdown",
   "metadata": {},
   "source": [
    "![앱 생성 페이지](img/crawl_4.png)"
   ]
  },
  {
   "cell_type": "markdown",
   "metadata": {},
   "source": [
    "![앱 생성 페이지](img/crawl_5.png)"
   ]
  },
  {
   "cell_type": "markdown",
   "metadata": {},
   "source": [
    "- `2. 페이지들의 URL 정보 추출` 에서 추출했던 URL 페이지 정보를 기반으로 크롤링 실행."
   ]
  },
  {
   "cell_type": "code",
   "execution_count": 3,
   "metadata": {},
   "outputs": [
    {
     "name": "stdout",
     "output_type": "stream",
     "text": [
      "Legacy(앨범) \n",
      "\n",
      "\n",
      "2020년 음반힙합 음반컴필레이션 앨범\n",
      "\n",
      "\n",
      "Legacy레거시제목Legacy아티스트하이라이트 레코즈발매2020년 8월 16일장르힙합전체 길이51분 15초수록곡 수14타이틀Kid Rock프로듀서Big Banana, jerd, JINBO the SuperFreak,Paloalto, Stally, UGP Welcome Ian, Yosi, YunB레이블Hi-Lite Records유통(주)인터파크1. 개요2. 트랙리스트3. 참여 멤버4. 뮤직비디오5. 평가6. 기타7. 둘러보기2020년 8월 16일에 발매된, HI-LIFE의 뒤를 잇는 하이라이트 레코즈의 두번째 컴필레이션 앨범.트랙리스트트랙제목프로듀서1Simple ThingsPaloalto, jerd, Huckleberry P & Owell MoodUGP2Trynna BeSoovi, Swervy, Paloalto & Owell Mood3u dunnoSway D, Paloalto, Huckleberry P, jerd & JowonuUGPPaloalto4YEZZIRPaloalto, Huckleberry P, Reddy & G2JINBOthe SuperFreak5Bad Bad Badjerd, Huckleberry P & ReddyjerdPaloalto6Ooh La LaPaloalto, Swervy, Huckleberry P & Sway DBig Banana7OrganizationSway D, Swervy, Owell Mood & YunBYunB8D.R.E.A.M.Soovi, YunB & SwervyYosi9Ain't Got TimeSoovi, Owell Mood & ReddyBig BananaUGP10Cool Kids, Part 3Evo, Paloalto & Huckleberry Pjerd11송석현 vs. 송석현 (Sway D vs. Sway D)Paloalto & Sway DWelcome Ian12U DUNNOReddy, Soovi, Paloalto, Owell Mood & SwervyUGPPaloalto13StepJowonu, Soovi, Huckleberry P, jerd & SwervyStally14Kid RockPaloalto, jerd, Reddy & SooviYosiPaloalto팔로알토 (Paloalto)허클베리피 (Huckleberry P)레디 (Reddy)스웨이디 (Sway D)윤비 (YunB)조원우 (Jowonu)스월비 (Swervy)오웰무드 (Owell Mood)수비 (Soovi)저드 (jerd)DJ 짱가 (DJ Djanga)요시 (Yosi)Camo Starr지투 (G2)[Out]Evo[Out]앨범 전체적인 느낌은 기존 하이라이트와는 전혀 다른, 신세대 하이라이트를 보여준 알앤비/힙합으로, 라이트한 취향의 리스너들도 접근하기 편한 앨범이다. 이는 오케이션, 비프리, 키스에이프, 지투 등의 빡센 타입의 래퍼들이 나가고 연달아 영입한 보컬 라인 3인과의 호흡에 맞춰 레이블의 전체적인 무드가 바뀐 듯 하다.전작인 HI-LIFE와 스타일이 워낙 달라서 비교를 딱히 하진 않지만 그래도 잘 만든 앨범이라 평가 받는다. 팔로알토가 8월 30일 대표이사직을 내려놓으면서, 이 앨범은  지난 10년간의 족적에 대한 마침표이자 향후 10년간의 행보를 향한 이정표라는 의미를 지니게 되었다.아티스트별 평가많은 이들이 MVP를 단연 스월비로 꼽는 편. 정규 1집에서 보여준 넘사벽의 압도적인 폼을 이번 앨범에서 또한 유감없이 보여주었으며, 의외로 저드 또한 그 못지 않은 큰 호평을 받았다.최고참인 팔로알토, 허클베리피 두 사람은 늘 그랬듯 월등했다. 특히 지난 컴필 앨범에 비해 참여율과 기량이 높아진 헉피에 대한 팬들의 찬사가 쏟아졌다. 또한 최근 정규 앨범을 발매하고 물오른 레디도 안정적인 활약을 보여주어 호평을 받았다.윤비는 단체곡 미참여와 더불어 본인이 작곡에 참여한 2곡에만 참여하여 많은 팬들의 아쉬움을 샀다. 그러나 외힙을 연상케 하는 유니크한 음악성과 한층 더 성장한 랩 센스로 적잖은 임팩트를 남겼다.오웰무드, 수비는 전에 없던 감미로운 색깔로 호평과 환영을 받았는데, 특히 보컬리스트인 줄로만 알았던 오웰이 이따금씩 보여주는 능숙하고 쫀득쫀득한 랩핑에 신선한 충격을 받은 리스너들이 많았다. 수비의 귀엽고도 신비스러운 음색 또한 이 앨범에서 빼놓을 수 없는 매력 포인트이다.  스웨이디는 호불호의 사나이 답게 찬사와 혹평이 극명하게 갈렸다. 특히 7번 트랙 Organization에선 칸예 혹은 코홀트가 떠오른다며 환호하는 사람들이 있는 반면, 아예 '얘 나오는 곡들은 거른다', '그냥 랩 접어라' 등의 악담을 뱉는 사람들 또한 만만찮게 보인다. 좌우지간 정신줄을 아슬아슬하게 놓을락 말락, 혼자만 아예 다른 장르를 만들어 버리는 특유의 똘끼 덕에 무시할 수 없는 존재감을 과시했음은 부정할 수 없다.조원우는 좋게 말하면 정통의 랩을 무난히 보여줬다는 평, 나쁘게 말하면 늘 그렇듯 단조롭다는 지적을 받았다. 허나 처음 입단할 때 받았던 기대치에 비해 이번 앨범에서의 기량과 참여율이 다소 저조했을 뿐, 여전히 충만한 잠재력이 내재된 차세대 에이스임은 분명하다. 무엇보다 13번 트랙 Step을 통해 재즈 힙합과의 조화가 매우 뛰어나다는 걸 보여주어 향후 음악성에 대한 기대감을 갖게 했다.처음에는 스토리있는 앨범을 만들고 싶었고 토이스토리 비슷한 스토리를 만들기로 회의했으나 만들던 도중 답이 안나와서 포기했다고 한다. 이유는 하이라이트의 이야기를 담고자 했지만 하이라이트에 있던 기존 멤버하고 신멤버하고 공감대가 너무 달라서 하이라이트의 이야기를 담을 수 없었다고 한다.[3]아티스트들이 하이라이트 레코즈 사옥에서 모여서 작업했다.유기성을 고려한 앨범은 아니라 한다. 헉피 曰, 전부 맞추려면 앨범이 죽을 때까지 안 나온다고...u dunno, U DUNNO가 윤비를 제외한 모든 아티스트가 참여해서 저 두 노래를 (더블) 타이틀로 하려했으나 뮤비가 미완성이라서 뮤비가 완성되어있는 Kid Rock을 선정했다고 한다.실제로는 더 많은 아티스트들이 참여했으나 플레이타임이 너무 길어져서 많이 쳐냈다고 한다.해당 앨범이 발매된 바로 다음날 지투의 3집이 나왔다.머천다이즈 굿즈를 KRSP와 PEER에서 한정 판매한다.유튜브 딩고프리스타일에서 진행하는 궁금한나라의 넉밀스 하이라이트vs하이어뮤직 편에서 이번 컴필앨범에 조원우(+ 윤비)의 분량이 적다고한 말에서 각자 분위기에 어울리는 파트를 넣다보니 그렇게 되었다라고 팔로알토가 말 하였다. [ 펼치기 · 접기 ]PaloaltoReddyHuckleberry PSway DCamo StarrYunBYosiDJ DjangaJowonuSwervyOwell MoodSoovijerdPaloaltoReddyHuckleberry PSway DCamo StarrYunBYosiDJ DjangaJowonuSwervyOwell MoodSoovijerd\n"
     ]
    }
   ],
   "source": [
    "# 하나의 최근 변경된 문서를 크롤링합니다.\n",
    "\n",
    "# 크롬 드라이버를 사용합니다\n",
    "driver = webdriver.Chrome(path)\n",
    "\n",
    "# 드라이버가 브라우징 할 페이지 소스를 입력합니다\n",
    "driver.get(page_urls[0])\n",
    "req = driver.page_source\n",
    "soup=BeautifulSoup(req, 'html.parser')\n",
    "contents_table = soup.find(name=\"article\")\n",
    "title = contents_table.find_all('h1')[0]\n",
    "category = contents_table.find_all('ul')[0]\n",
    "content_paragraphs = contents_table.find_all(name=\"div\", attrs={\"class\":\"wiki-paragraph\"})\n",
    "content_corpus_list = []\n",
    "\n",
    "for paragraphs in content_paragraphs:\n",
    "    content_corpus_list.append(paragraphs.text)\n",
    "content_corpus = \"\".join(content_corpus_list)\n",
    "\n",
    "print(title.text)\n",
    "print(\"\\n\")\n",
    "print(category.text)\n",
    "print(\"\\n\")\n",
    "print(content_corpus)\n",
    "\n",
    "# 크롤링에 사용한 브라우저를 종료합니다.\n",
    "driver.close()"
   ]
  },
  {
   "cell_type": "code",
   "execution_count": null,
   "metadata": {},
   "outputs": [],
   "source": []
  }
 ],
 "metadata": {
  "kernelspec": {
   "display_name": "Python 3",
   "language": "python",
   "name": "python3"
  },
  "language_info": {
   "codemirror_mode": {
    "name": "ipython",
    "version": 3
   },
   "file_extension": ".py",
   "mimetype": "text/x-python",
   "name": "python",
   "nbconvert_exporter": "python",
   "pygments_lexer": "ipython3",
   "version": "3.8.10"
  },
  "toc": {
   "base_numbering": 1,
   "nav_menu": {},
   "number_sections": true,
   "sideBar": true,
   "skip_h1_title": false,
   "title_cell": "Table of Contents",
   "title_sidebar": "Contents",
   "toc_cell": false,
   "toc_position": {
    "height": "calc(100% - 180px)",
    "left": "10px",
    "top": "150px",
    "width": "384px"
   },
   "toc_section_display": true,
   "toc_window_display": true
  }
 },
 "nbformat": 4,
 "nbformat_minor": 4
}
